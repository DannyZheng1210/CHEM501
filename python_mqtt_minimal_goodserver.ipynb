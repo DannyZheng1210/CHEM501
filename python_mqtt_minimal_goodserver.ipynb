# Based off this: https://github.com/eclipse/paho.mqtt.python/blob/master/examples/subscribe_simple.py
import paho.mqtt.subscribe as subscribe
#set up pandas, the SQL tool
import pandas as pd

import matplotlib.pyplot as plt

topics = ['dongyangtest1', 'dongyangtest2']

m = subscribe.simple(topics, hostname="pf-eveoxy0ua6xhtbdyohag.cedalo.cloud", retained=False, msg_count=len(topics))

# If you just have a single topic you're subscribing to, use this:
# print(m.payload)

# If you're subscribing to multiple topics, use this:


#the counts of calculate the data, can change this number to change the counts
counts=10
temperature=[]
gas=[]

for n in range(0,counts):
        data = []
        for a in m:
                data.append(float(a.payload))
        temperature.append(float(data[0]))
        gas.append(float(data[1]))
print(data)
print(temperature)
print(gas)

columns = ['temperature', 'gas']
data_frame = pd.DataFrame(columns=columns)

df = pd.DataFrame({ 
    'temperature': temperature,
    'gas': gas  
})
print(df)

df.to_csv('output.csv', index=False)

file_path = 'output.csv'
df = pd.read_csv(file_path)

plt.figure(figsize=(10, 6))
plt.plot(range(1, counts + 1), df['temperature'], label='Temperature', marker='o') 
plt.plot(range(1, counts + 1), df['gas'], label='Gas', marker='o')  
plt.title("The change of enviroment")
plt.xlabel("Iteration")
plt.ylabel("Value")
plt.legend()
plt.grid()
plt.show()


