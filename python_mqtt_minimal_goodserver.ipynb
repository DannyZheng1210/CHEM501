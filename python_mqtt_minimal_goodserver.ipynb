{
 "cells": [
  {
   "cell_type": "code",
   "execution_count": null,
   "metadata": {},
   "outputs": [
    {
     "name": "stdout",
     "output_type": "stream",
     "text": [
      "[25.6, 10416.0]\n"
     ]
    }
   ],
   "source": [
    "# Based off this: https://github.com/eclipse/paho.mqtt.python/blob/master/examples/subscribe_simple.py\n",
    "import paho.mqtt.subscribe as subscribe\n",
    "\n",
    "topics = ['dongyangtest1', 'dongyangtest2']\n",
    "\n",
    "data = []\n",
    "m = subscribe.simple(topics, hostname=\"pf-eveoxy0ua6xhtbdyohag.cedalo.cloud\", retained=False, msg_count=len(topics))\n",
    "\n",
    "# If you just have a single topic you're subscribing to, use this:\n",
    "# print(m.payload)\n",
    "\n",
    "# If you're subscribing to multiple topics, use this:\n",
    "for a in m:\n",
    "        data.append(float(a.payload))\n",
    "\n",
    "print(data)\n",
    "\n",
    "\n",
    "\n"
   ]
  },
  {
   "cell_type": "code",
   "execution_count": null,
   "metadata": {},
   "outputs": [],
   "source": []
  }
 ],
 "metadata": {
  "kernelspec": {
   "display_name": "base",
   "language": "python",
   "name": "python3"
  },
  "language_info": {
   "codemirror_mode": {
    "name": "ipython",
    "version": 3
   },
   "file_extension": ".py",
   "mimetype": "text/x-python",
   "name": "python",
   "nbconvert_exporter": "python",
   "pygments_lexer": "ipython3",
   "version": "3.12.7"
  },
  "orig_nbformat": 4
 },
 "nbformat": 4,
 "nbformat_minor": 2
}
